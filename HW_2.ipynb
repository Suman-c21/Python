{
  "nbformat": 4,
  "nbformat_minor": 0,
  "metadata": {
    "colab": {
      "name": "HW 2.ipynb",
      "provenance": [],
      "collapsed_sections": [],
      "authorship_tag": "ABX9TyOr0DhvW9pwocjOrhPtgCKP",
      "include_colab_link": true
    },
    "kernelspec": {
      "name": "python3",
      "display_name": "Python 3"
    }
  },
  "cells": [
    {
      "cell_type": "markdown",
      "metadata": {
        "id": "view-in-github",
        "colab_type": "text"
      },
      "source": [
        "<a href=\"https://colab.research.google.com/github/Suman-c21/Python/blob/master/HW_2.ipynb\" target=\"_parent\"><img src=\"https://colab.research.google.com/assets/colab-badge.svg\" alt=\"Open In Colab\"/></a>"
      ]
    },
    {
      "cell_type": "markdown",
      "metadata": {
        "id": "gM0LXtdjEuRK",
        "colab_type": "text"
      },
      "source": [
        "Part 2) Create a Python Notebook in Google Colaboratory (https://colab.research.google.com/notebooks/welcome.ipynb) to solve the following problem: an ideal gas (0.15 mol) is placed in a container that has a volume of 1.2 $\\times$ $10^{-3}$ m$^3$, and has a pressure of 302.4 kPa. What is the temperature of the gas in Kelvin? Send a link to your Google Colaboratory notebook to the instructor when done. Save a copy of the notebook in PDF, and submit it as part of this homework. Remember to add comments/notes to explain in detail the solution of the problem. Make sure you also copy the question of the problem at the beginning of the Jupyter notebook as a Markdown cell (5 points). "
      ]
    },
    {
      "cell_type": "code",
      "metadata": {
        "id": "MRVEHY_vEx9E",
        "colab_type": "code",
        "colab": {}
      },
      "source": [
        ""
      ],
      "execution_count": 0,
      "outputs": []
    },
    {
      "cell_type": "markdown",
      "metadata": {
        "id": "sg8XBCE5E4J7",
        "colab_type": "text"
      },
      "source": [
        "We are given,"
      ]
    },
    {
      "cell_type": "code",
      "metadata": {
        "id": "K_iqQrPdGMUD",
        "colab_type": "code",
        "colab": {}
      },
      "source": [
        "n = 0.15 # Number of moles (mol)\n",
        "v = 1.2*10**-3 # Volume in (m^3)\n",
        "p = 302.4*10**3 # Pressure in (Pa)\n",
        "r = 8.314 # Universal gas constant(Jolues/mol kelvin)\n"
      ],
      "execution_count": 0,
      "outputs": []
    },
    {
      "cell_type": "code",
      "metadata": {
        "id": "wXae5xxhIQdN",
        "colab_type": "code",
        "colab": {}
      },
      "source": [
        "t = (p*v)/(n*r)"
      ],
      "execution_count": 0,
      "outputs": []
    },
    {
      "cell_type": "code",
      "metadata": {
        "id": "oj4zmwrEIWr6",
        "colab_type": "code",
        "colab": {
          "base_uri": "https://localhost:8080/",
          "height": 35
        },
        "outputId": "d607815e-3037-4595-a3e0-bcec25771773"
      },
      "source": [
        "print(t)"
      ],
      "execution_count": 7,
      "outputs": [
        {
          "output_type": "stream",
          "text": [
            "290.9790714457542\n"
          ],
          "name": "stdout"
        }
      ]
    },
    {
      "cell_type": "code",
      "metadata": {
        "id": "mqUng__OIYRs",
        "colab_type": "code",
        "colab": {
          "base_uri": "https://localhost:8080/",
          "height": 35
        },
        "outputId": "bafa39c1-26c9-4803-9a19-461bc88b4f7e"
      },
      "source": [
        "round(t)"
      ],
      "execution_count": 8,
      "outputs": [
        {
          "output_type": "execute_result",
          "data": {
            "text/plain": [
              "291"
            ]
          },
          "metadata": {
            "tags": []
          },
          "execution_count": 8
        }
      ]
    },
    {
      "cell_type": "code",
      "metadata": {
        "id": "T7Njej8jIs0v",
        "colab_type": "code",
        "colab": {}
      },
      "source": [
        ""
      ],
      "execution_count": 0,
      "outputs": []
    },
    {
      "cell_type": "markdown",
      "metadata": {
        "id": "vJgSf3LsIueJ",
        "colab_type": "text"
      },
      "source": [
        "Hence the temperature of gas in Kelvin = 291 K."
      ]
    }
  ]
}