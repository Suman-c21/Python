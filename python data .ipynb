{
 "cells": [
  {
   "cell_type": "code",
   "execution_count": 1,
   "metadata": {},
   "outputs": [],
   "source": [
    "# we will do loops here.\n",
    "A = ['a','b','c','d']"
   ]
  },
  {
   "cell_type": "code",
   "execution_count": 2,
   "metadata": {},
   "outputs": [
    {
     "name": "stdout",
     "output_type": "stream",
     "text": [
      "['a', 'b', 'c', 'd']\n",
      "['a', 'b', 'c', 'd']\n",
      "['a', 'b', 'c', 'd']\n",
      "['a', 'b', 'c', 'd']\n"
     ]
    }
   ],
   "source": [
    "for i in A:\n",
    "    print(A)"
   ]
  },
  {
   "cell_type": "code",
   "execution_count": 3,
   "metadata": {},
   "outputs": [
    {
     "name": "stdout",
     "output_type": "stream",
     "text": [
      "0\n",
      "1\n",
      "2\n",
      "3\n",
      "4\n"
     ]
    }
   ],
   "source": [
    "for i in range(5):\n",
    "    print(i)"
   ]
  },
  {
   "cell_type": "code",
   "execution_count": 4,
   "metadata": {},
   "outputs": [
    {
     "name": "stdout",
     "output_type": "stream",
     "text": [
      "0\n",
      "1\n",
      "2\n",
      "3\n",
      "4\n"
     ]
    }
   ],
   "source": [
    "import numpy as np\n",
    "for i in np.arange(5):\n",
    "    print(i)"
   ]
  },
  {
   "cell_type": "code",
   "execution_count": 5,
   "metadata": {},
   "outputs": [
    {
     "name": "stdout",
     "output_type": "stream",
     "text": [
      "1\n",
      "2\n",
      "3\n",
      "4\n"
     ]
    }
   ],
   "source": [
    "import numpy as np\n",
    "for i in np.arange(1,5,1):\n",
    "    print(i)"
   ]
  },
  {
   "cell_type": "code",
   "execution_count": 6,
   "metadata": {},
   "outputs": [
    {
     "name": "stdout",
     "output_type": "stream",
     "text": [
      "0 0.0\n",
      "0 0.2\n",
      "0 0.4\n",
      "0 0.6000000000000001\n",
      "0 0.8\n",
      "1 0.0\n",
      "1 0.2\n",
      "1 0.4\n",
      "1 0.6000000000000001\n",
      "1 0.8\n",
      "2 0.0\n",
      "2 0.2\n",
      "2 0.4\n",
      "2 0.6000000000000001\n",
      "2 0.8\n",
      "3 0.0\n",
      "3 0.2\n",
      "3 0.4\n",
      "3 0.6000000000000001\n",
      "3 0.8\n",
      "4 0.0\n",
      "4 0.2\n",
      "4 0.4\n",
      "4 0.6000000000000001\n",
      "4 0.8\n"
     ]
    }
   ],
   "source": [
    "for i in np.arange(0,5,1):\n",
    "    # (0,1...)\n",
    "    for j in np.arange(0,1,0.2):\n",
    "        print(i,j)"
   ]
  },
  {
   "cell_type": "code",
   "execution_count": 7,
   "metadata": {},
   "outputs": [],
   "source": [
    "L=[]\n",
    "for i in range(5):\n",
    "    L.append(i**2)"
   ]
  },
  {
   "cell_type": "code",
   "execution_count": 8,
   "metadata": {},
   "outputs": [
    {
     "data": {
      "text/plain": [
       "[0, 1, 4, 9, 16]"
      ]
     },
     "execution_count": 8,
     "metadata": {},
     "output_type": "execute_result"
    }
   ],
   "source": [
    "L"
   ]
  },
  {
   "cell_type": "code",
   "execution_count": 9,
   "metadata": {},
   "outputs": [
    {
     "name": "stdout",
     "output_type": "stream",
     "text": [
      "0 0.0\n",
      "0 0.2\n",
      "0 0.4\n",
      "0 0.6000000000000001\n",
      "0 0.8\n",
      "1 0.0\n",
      "1 0.2\n",
      "1 0.4\n",
      "1 0.6000000000000001\n",
      "1 0.8\n",
      "2 0.0\n",
      "2 0.2\n",
      "2 0.4\n",
      "2 0.6000000000000001\n",
      "2 0.8\n",
      "3 0.0\n",
      "3 0.2\n",
      "3 0.4\n",
      "3 0.6000000000000001\n",
      "3 0.8\n",
      "4 0.0\n",
      "4 0.2\n",
      "4 0.4\n",
      "4 0.6000000000000001\n",
      "4 0.8\n"
     ]
    }
   ],
   "source": [
    "for i in np.arange(0,5,1):\n",
    "    # (0,1...)\n",
    "    for j in np.arange(0,1,0.2):\n",
    "        print(i,j)"
   ]
  },
  {
   "cell_type": "code",
   "execution_count": 10,
   "metadata": {},
   "outputs": [],
   "source": [
    "P= [1,2,3,4,5]\n",
    "Q=[6,7,8,9,10]\n",
    "R = zip(P,Q)"
   ]
  },
  {
   "cell_type": "code",
   "execution_count": 11,
   "metadata": {},
   "outputs": [
    {
     "data": {
      "text/plain": [
       "zip"
      ]
     },
     "execution_count": 11,
     "metadata": {},
     "output_type": "execute_result"
    }
   ],
   "source": [
    "type(R)"
   ]
  },
  {
   "cell_type": "code",
   "execution_count": 12,
   "metadata": {},
   "outputs": [
    {
     "name": "stdout",
     "output_type": "stream",
     "text": [
      "0 0\n",
      "1 1\n",
      "2 2\n",
      "3 3\n",
      "4 4\n"
     ]
    }
   ],
   "source": [
    "for i,j in zip (range(5),range(5)):\n",
    "    print(i,j)"
   ]
  },
  {
   "cell_type": "code",
   "execution_count": 14,
   "metadata": {},
   "outputs": [
    {
     "ename": "SyntaxError",
     "evalue": "invalid syntax (<ipython-input-14-9f867f57ff31>, line 4)",
     "output_type": "error",
     "traceback": [
      "\u001b[1;36m  File \u001b[1;32m\"<ipython-input-14-9f867f57ff31>\"\u001b[1;36m, line \u001b[1;32m4\u001b[0m\n\u001b[1;33m    print{i,\"The number is smaller than 3\"}\u001b[0m\n\u001b[1;37m         ^\u001b[0m\n\u001b[1;31mSyntaxError\u001b[0m\u001b[1;31m:\u001b[0m invalid syntax\n"
     ]
    }
   ],
   "source": [
    "# types of loop\n",
    "for i in range(10):\n",
    "    if i<3:\n",
    "        print{i,\"The number is smaller than 3\"}\n",
    "    else: \n",
    "        print{i,\"The number is larger than or equal to 3\"}"
   ]
  },
  {
   "cell_type": "code",
   "execution_count": 16,
   "metadata": {},
   "outputs": [
    {
     "name": "stdout",
     "output_type": "stream",
     "text": [
      "0 The number is smaller than 3\n",
      "1 The number is smaller than 3\n",
      "2 The number is smaller than 3\n",
      "3 The number is larger than or equal to 3\n",
      "4 The number is larger than or equal to 3\n",
      "5 The number is larger than or equal to 3\n",
      "6 The number is larger than or equal to 3\n",
      "7 The number is larger than or equal to 3\n",
      "8 The number is larger than or equal to 3\n",
      "9 The number is larger than or equal to 3\n"
     ]
    }
   ],
   "source": [
    "for i in range(10):\n",
    "    if i<3:\n",
    "        print(i,\"The number is smaller than 3\")\n",
    "    else: \n",
    "        print(i,\"The number is larger than or equal to 3\")"
   ]
  },
  {
   "cell_type": "code",
   "execution_count": 17,
   "metadata": {},
   "outputs": [
    {
     "name": "stdout",
     "output_type": "stream",
     "text": [
      "0 The number is smaller than 50\n",
      "1 The number is smaller than 50\n",
      "2 The number is smaller than 50\n",
      "3 The number is smaller than 50\n",
      "4 The number is smaller than 50\n",
      "5 The number is smaller than 50\n",
      "6 The number is smaller than 50\n",
      "7 The number is smaller than 50\n",
      "8 The number is smaller than 50\n",
      "9 The number is smaller than 50\n",
      "10 The number is smaller than 50\n",
      "11 The number is smaller than 50\n",
      "12 The number is smaller than 50\n",
      "13 The number is smaller than 50\n",
      "14 The number is smaller than 50\n",
      "15 The number is smaller than 50\n",
      "16 The number is smaller than 50\n",
      "17 The number is smaller than 50\n",
      "18 The number is smaller than 50\n",
      "19 The number is smaller than 50\n",
      "20 The number is smaller than 50\n",
      "21 The number is smaller than 50\n",
      "22 The number is smaller than 50\n",
      "23 The number is smaller than 50\n",
      "24 The number is smaller than 50\n",
      "25 The number is smaller than 50\n",
      "26 The number is smaller than 50\n",
      "27 The number is smaller than 50\n",
      "28 The number is smaller than 50\n",
      "29 The number is smaller than 50\n",
      "30 The number is smaller than 50\n",
      "31 The number is smaller than 50\n",
      "32 The number is smaller than 50\n",
      "33 The number is smaller than 50\n",
      "34 The number is smaller than 50\n",
      "35 The number is smaller than 50\n",
      "36 The number is smaller than 50\n",
      "37 The number is smaller than 50\n",
      "38 The number is smaller than 50\n",
      "39 The number is smaller than 50\n",
      "40 The number is smaller than 50\n",
      "41 The number is smaller than 50\n",
      "42 The number is smaller than 50\n",
      "43 The number is smaller than 50\n",
      "44 The number is smaller than 50\n",
      "45 The number is smaller than 50\n",
      "46 The number is smaller than 50\n",
      "47 The number is smaller than 50\n",
      "48 The number is smaller than 50\n",
      "49 The number is smaller than 50\n",
      "50 The number is greater than 50\n",
      "51 The number is greater than 50\n",
      "52 The number is greater than 50\n",
      "53 The number is greater than 50\n",
      "54 The number is greater than 50\n",
      "55 The number is greater than 50\n",
      "56 The number is greater than 50\n",
      "57 The number is greater than 50\n",
      "58 The number is greater than 50\n",
      "59 The number is greater than 50\n",
      "60 The number is greater than 50\n",
      "61 The number is greater than 50\n",
      "62 The number is greater than 50\n",
      "63 The number is greater than 50\n",
      "64 The number is greater than 50\n",
      "65 The number is greater than 50\n",
      "66 The number is greater than 50\n",
      "67 The number is greater than 50\n",
      "68 The number is greater than 50\n",
      "69 The number is greater than 50\n",
      "70 The number is greater than 50\n",
      "71 The number is greater than 50\n",
      "72 The number is greater than 50\n",
      "73 The number is greater than 50\n",
      "74 The number is greater than 50\n",
      "75 The number is greater than 50\n",
      "76 The number is greater than 50\n",
      "77 The number is greater than 50\n",
      "78 The number is greater than 50\n",
      "79 The number is greater than 50\n",
      "80 The number is greater than 50\n",
      "81 The number is greater than 50\n",
      "82 The number is greater than 50\n",
      "83 The number is greater than 50\n",
      "84 The number is greater than 50\n",
      "85 The number is greater than 50\n",
      "86 The number is greater than 50\n",
      "87 The number is greater than 50\n",
      "88 The number is greater than 50\n",
      "89 The number is greater than 50\n",
      "90 The number is greater than 50\n",
      "91 The number is greater than 50\n",
      "92 The number is greater than 50\n",
      "93 The number is greater than 50\n",
      "94 The number is greater than 50\n",
      "95 The number is greater than 50\n",
      "96 The number is greater than 50\n",
      "97 The number is greater than 50\n",
      "98 The number is greater than 50\n",
      "99 The number is greater than 50\n"
     ]
    }
   ],
   "source": [
    "for i in range(100):\n",
    "    if i<50:\n",
    "        print(i,\"The number is smaller than 50\")\n",
    "    else:\n",
    "        print(i,\"The number is greater than 50\")"
   ]
  },
  {
   "cell_type": "code",
   "execution_count": 19,
   "metadata": {},
   "outputs": [
    {
     "name": "stdout",
     "output_type": "stream",
     "text": [
      "0 the number is less than 3\n",
      "1 the number is less than 3\n",
      "2 the number is less than 3\n",
      "3 the number is greater than or equal to 3\n",
      "4 the number is greater than or equal to 3\n",
      "5 the number is greater than or equal to 3\n",
      "6 the number is greater than or equal to 3\n",
      "7 the number is greater than or equal to 3\n",
      "8 the number is greater than or equal to 3\n",
      "9 the number is greater than or equal to 3\n"
     ]
    }
   ],
   "source": [
    "for i in range(10):\n",
    "    if i<3:\n",
    "        print(i,\"the number is less than 3\")\n",
    "    else:\n",
    "        print(i,\"the number is greater than or equal to 3\")\n",
    "        "
   ]
  },
  {
   "cell_type": "code",
   "execution_count": 20,
   "metadata": {},
   "outputs": [
    {
     "name": "stdout",
     "output_type": "stream",
     "text": [
      "0 the number\n",
      "1 the number\n",
      "2 the number\n",
      "3 the number\n",
      "4 the number\n",
      "5 the number\n",
      "6 the number\n",
      "7 the number\n",
      "8 the number\n",
      "9 the number\n"
     ]
    }
   ],
   "source": [
    "i =0\n",
    "while i<10:\n",
    "    print(i,\"the number\")\n",
    "    i=i+1"
   ]
  },
  {
   "cell_type": "code",
   "execution_count": null,
   "metadata": {},
   "outputs": [],
   "source": []
  }
 ],
 "metadata": {
  "kernelspec": {
   "display_name": "Python 3",
   "language": "python",
   "name": "python3"
  },
  "language_info": {
   "codemirror_mode": {
    "name": "ipython",
    "version": 3
   },
   "file_extension": ".py",
   "mimetype": "text/x-python",
   "name": "python",
   "nbconvert_exporter": "python",
   "pygments_lexer": "ipython3",
   "version": "3.7.4"
  }
 },
 "nbformat": 4,
 "nbformat_minor": 2
}
